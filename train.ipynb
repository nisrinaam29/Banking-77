{
 "cells": [
  {
   "cell_type": "code",
   "execution_count": 2,
   "metadata": {},
   "outputs": [],
   "source": [
    "import numpy as np\n",
    "import pandas as pd\n",
    "import re\n",
    "import torch\n",
    "import random\n",
    "from random import shuffle\n",
    "import torch.nn as nn\n",
    "import transformers\n",
    "import matplotlib.pyplot as plt\n",
    "import tensorflow as tf\n",
    "import seaborn as sns\n",
    "from pylab import rcParams\n",
    "from torch.utils.data import DataLoader, TensorDataset\n",
    "from transformers import BertConfig, BertForSequenceClassification, BertTokenizer\n",
    "from tqdm import tqdm\n",
    "from sklearn.preprocessing import LabelEncoder\n",
    "from sklearn.model_selection import train_test_split\n",
    "from torch.optim.lr_scheduler import ReduceLROnPlateau\n",
    "\n",
    "# mps for mac, use GPU or cpu\n",
    "device = torch.device(\"mps\")    \n",
    "\n",
    "sns.set(style='whitegrid', palette='muted', font_scale=1.2)\n",
    "HAPPY_COLORS_PALETTE = [\"#01BEFE\", \"#FFDD00\", \"#FF7D00\", \"#FF006D\", \"#ADFF02\", \"#8F00FF\"]\n",
    "sns.set_palette(sns.color_palette(HAPPY_COLORS_PALETTE))\n",
    "rcParams['figure.figsize'] = 12, 8\n",
    "import warnings\n",
    "warnings.filterwarnings(\"ignore\")"
   ]
  },
  {
   "cell_type": "code",
   "execution_count": 30,
   "metadata": {},
   "outputs": [],
   "source": [
    "df=pd.read_csv('train.csv')"
   ]
  },
  {
   "cell_type": "code",
   "execution_count": 31,
   "metadata": {},
   "outputs": [
    {
     "data": {
      "text/html": [
       "<div>\n",
       "<style scoped>\n",
       "    .dataframe tbody tr th:only-of-type {\n",
       "        vertical-align: middle;\n",
       "    }\n",
       "\n",
       "    .dataframe tbody tr th {\n",
       "        vertical-align: top;\n",
       "    }\n",
       "\n",
       "    .dataframe thead th {\n",
       "        text-align: right;\n",
       "    }\n",
       "</style>\n",
       "<table border=\"1\" class=\"dataframe\">\n",
       "  <thead>\n",
       "    <tr style=\"text-align: right;\">\n",
       "      <th></th>\n",
       "      <th>text</th>\n",
       "      <th>category</th>\n",
       "    </tr>\n",
       "  </thead>\n",
       "  <tbody>\n",
       "    <tr>\n",
       "      <th>0</th>\n",
       "      <td>I am still waiting on my card?</td>\n",
       "      <td>card_arrival</td>\n",
       "    </tr>\n",
       "    <tr>\n",
       "      <th>1</th>\n",
       "      <td>What can I do if my card still hasn't arrived ...</td>\n",
       "      <td>card_arrival</td>\n",
       "    </tr>\n",
       "    <tr>\n",
       "      <th>2</th>\n",
       "      <td>I have been waiting over a week. Is the card s...</td>\n",
       "      <td>card_arrival</td>\n",
       "    </tr>\n",
       "    <tr>\n",
       "      <th>3</th>\n",
       "      <td>Can I track my card while it is in the process...</td>\n",
       "      <td>card_arrival</td>\n",
       "    </tr>\n",
       "    <tr>\n",
       "      <th>4</th>\n",
       "      <td>How do I know if I will get my card, or if it ...</td>\n",
       "      <td>card_arrival</td>\n",
       "    </tr>\n",
       "  </tbody>\n",
       "</table>\n",
       "</div>"
      ],
      "text/plain": [
       "                                                text      category\n",
       "0                     I am still waiting on my card?  card_arrival\n",
       "1  What can I do if my card still hasn't arrived ...  card_arrival\n",
       "2  I have been waiting over a week. Is the card s...  card_arrival\n",
       "3  Can I track my card while it is in the process...  card_arrival\n",
       "4  How do I know if I will get my card, or if it ...  card_arrival"
      ]
     },
     "execution_count": 31,
     "metadata": {},
     "output_type": "execute_result"
    }
   ],
   "source": [
    "df.head()"
   ]
  },
  {
   "cell_type": "code",
   "execution_count": 32,
   "metadata": {},
   "outputs": [
    {
     "data": {
      "text/plain": [
       "category\n",
       "card_payment_fee_charged                            187\n",
       "direct_debit_payment_not_recognised                 182\n",
       "balance_not_updated_after_cheque_or_cash_deposit    181\n",
       "wrong_amount_of_cash_received                       180\n",
       "cash_withdrawal_charge                              177\n",
       "                                                   ... \n",
       "lost_or_stolen_card                                  82\n",
       "card_swallowed                                       61\n",
       "card_acceptance                                      59\n",
       "virtual_card_not_working                             41\n",
       "contactless_not_working                              35\n",
       "Name: count, Length: 77, dtype: int64"
      ]
     },
     "execution_count": 32,
     "metadata": {},
     "output_type": "execute_result"
    }
   ],
   "source": [
    "df['category'].value_counts()"
   ]
  },
  {
   "cell_type": "markdown",
   "metadata": {},
   "source": [
    "Selected only 12 classes"
   ]
  },
  {
   "cell_type": "code",
   "execution_count": 33,
   "metadata": {},
   "outputs": [],
   "source": [
    "selected_classes = [\n",
    "    \"card_arrival\", \"card_linking\", \"pending_cash_withdrawal\", \n",
    "    \"card_delivery_estimate\", \"card_not_working\", \"lost_or_stolen_card\", \n",
    "    \"cancel_transfer\", \"wrong_amount_of_cash_received\", \"card_payment_fee_charged\", \n",
    "    \"transfer_not_received_by_recipient\", \"getting_virtual_card\", \"activate_my_card\"\n",
    "]"
   ]
  },
  {
   "cell_type": "code",
   "execution_count": 40,
   "metadata": {},
   "outputs": [
    {
     "data": {
      "text/plain": [
       "category\n",
       "card_payment_fee_charged              187\n",
       "wrong_amount_of_cash_received         180\n",
       "transfer_not_received_by_recipient    171\n",
       "activate_my_card                      159\n",
       "cancel_transfer                       157\n",
       "card_arrival                          153\n",
       "pending_cash_withdrawal               143\n",
       "card_linking                          139\n",
       "card_delivery_estimate                112\n",
       "card_not_working                      112\n",
       "getting_virtual_card                   98\n",
       "lost_or_stolen_card                    82\n",
       "Name: count, dtype: int64"
      ]
     },
     "execution_count": 40,
     "metadata": {},
     "output_type": "execute_result"
    }
   ],
   "source": [
    "df_filtered = df[df['category'].isin(selected_classes)]\n",
    "df_filtered['category'].value_counts()"
   ]
  },
  {
   "cell_type": "code",
   "execution_count": null,
   "metadata": {},
   "outputs": [
    {
     "ename": "AttributeError",
     "evalue": "'DataFrameGroupBy' object has no attribute 'to_csv'",
     "output_type": "error",
     "traceback": [
      "\u001b[0;31m---------------------------------------------------------------------------\u001b[0m",
      "\u001b[0;31mAttributeError\u001b[0m                            Traceback (most recent call last)",
      "Cell \u001b[0;32mIn[35], line 1\u001b[0m\n\u001b[0;32m----> 1\u001b[0m \u001b[43mdf_balanced\u001b[49m\u001b[38;5;241;43m.\u001b[39;49m\u001b[43mto_csv\u001b[49m(\u001b[38;5;124m\"\u001b[39m\u001b[38;5;124mbanking77_reduced.csv\u001b[39m\u001b[38;5;124m\"\u001b[39m, index\u001b[38;5;241m=\u001b[39m\u001b[38;5;28;01mFalse\u001b[39;00m)\n",
      "File \u001b[0;32m~/miniforge3/envs/conference/lib/python3.12/site-packages/pandas/core/groupby/groupby.py:1363\u001b[0m, in \u001b[0;36mGroupBy.__getattr__\u001b[0;34m(self, attr)\u001b[0m\n\u001b[1;32m   1360\u001b[0m \u001b[38;5;28;01mif\u001b[39;00m attr \u001b[38;5;129;01min\u001b[39;00m \u001b[38;5;28mself\u001b[39m\u001b[38;5;241m.\u001b[39mobj:\n\u001b[1;32m   1361\u001b[0m     \u001b[38;5;28;01mreturn\u001b[39;00m \u001b[38;5;28mself\u001b[39m[attr]\n\u001b[0;32m-> 1363\u001b[0m \u001b[38;5;28;01mraise\u001b[39;00m \u001b[38;5;167;01mAttributeError\u001b[39;00m(\n\u001b[1;32m   1364\u001b[0m     \u001b[38;5;124mf\u001b[39m\u001b[38;5;124m\"\u001b[39m\u001b[38;5;124m'\u001b[39m\u001b[38;5;132;01m{\u001b[39;00m\u001b[38;5;28mtype\u001b[39m(\u001b[38;5;28mself\u001b[39m)\u001b[38;5;241m.\u001b[39m\u001b[38;5;18m__name__\u001b[39m\u001b[38;5;132;01m}\u001b[39;00m\u001b[38;5;124m'\u001b[39m\u001b[38;5;124m object has no attribute \u001b[39m\u001b[38;5;124m'\u001b[39m\u001b[38;5;132;01m{\u001b[39;00mattr\u001b[38;5;132;01m}\u001b[39;00m\u001b[38;5;124m'\u001b[39m\u001b[38;5;124m\"\u001b[39m\n\u001b[1;32m   1365\u001b[0m )\n",
      "\u001b[0;31mAttributeError\u001b[0m: 'DataFrameGroupBy' object has no attribute 'to_csv'"
     ]
    }
   ],
   "source": [
    "df_filtered.to_csv(\"banking77_reduced.csv\", index=False)"
   ]
  },
  {
   "cell_type": "markdown",
   "metadata": {},
   "source": [
    "TRAINING"
   ]
  },
  {
   "cell_type": "code",
   "execution_count": 3,
   "metadata": {},
   "outputs": [],
   "source": [
    "df_indoeng=pd.read_csv('banking77_indoeng.csv')\n"
   ]
  },
  {
   "cell_type": "code",
   "execution_count": null,
   "metadata": {},
   "outputs": [
    {
     "data": {
      "text/html": [
       "<div>\n",
       "<style scoped>\n",
       "    .dataframe tbody tr th:only-of-type {\n",
       "        vertical-align: middle;\n",
       "    }\n",
       "\n",
       "    .dataframe tbody tr th {\n",
       "        vertical-align: top;\n",
       "    }\n",
       "\n",
       "    .dataframe thead th {\n",
       "        text-align: right;\n",
       "    }\n",
       "</style>\n",
       "<table border=\"1\" class=\"dataframe\">\n",
       "  <thead>\n",
       "    <tr style=\"text-align: right;\">\n",
       "      <th></th>\n",
       "      <th>text</th>\n",
       "      <th>category</th>\n",
       "    </tr>\n",
       "  </thead>\n",
       "  <tbody>\n",
       "    <tr>\n",
       "      <th>0</th>\n",
       "      <td>I am still waiting on my card?</td>\n",
       "      <td>card_arrival</td>\n",
       "    </tr>\n",
       "    <tr>\n",
       "      <th>1</th>\n",
       "      <td>What can I do if my card still hasn't arrived ...</td>\n",
       "      <td>card_arrival</td>\n",
       "    </tr>\n",
       "    <tr>\n",
       "      <th>2</th>\n",
       "      <td>I have been waiting over a week. Is the card s...</td>\n",
       "      <td>card_arrival</td>\n",
       "    </tr>\n",
       "    <tr>\n",
       "      <th>3</th>\n",
       "      <td>Can I track my card while it is in the process...</td>\n",
       "      <td>card_arrival</td>\n",
       "    </tr>\n",
       "    <tr>\n",
       "      <th>4</th>\n",
       "      <td>How do I know if I will get my card, or if it ...</td>\n",
       "      <td>card_arrival</td>\n",
       "    </tr>\n",
       "  </tbody>\n",
       "</table>\n",
       "</div>"
      ],
      "text/plain": [
       "                                                text      category\n",
       "0                     I am still waiting on my card?  card_arrival\n",
       "1  What can I do if my card still hasn't arrived ...  card_arrival\n",
       "2  I have been waiting over a week. Is the card s...  card_arrival\n",
       "3  Can I track my card while it is in the process...  card_arrival\n",
       "4  How do I know if I will get my card, or if it ...  card_arrival"
      ]
     },
     "execution_count": 6,
     "metadata": {},
     "output_type": "execute_result"
    }
   ],
   "source": [
    "df_indoeng.head()"
   ]
  },
  {
   "cell_type": "code",
   "execution_count": 18,
   "metadata": {},
   "outputs": [],
   "source": [
    "def preprocess_text(text):\n",
    "    text = str(text).lower()  # Convert to lowercase\n",
    "    text = re.sub(r'[^\\w\\s]', '', text)  # Remove punctuation\n",
    "    text = re.sub(r'\\d+', '', text)  # Remove numbers\n",
    "    text = text.strip()  # Remove leading/trailing spaces\n",
    "    return text\n",
    "\n",
    "# Apply preprocessing to the text column\n",
    "df_indoeng['text'] = df_indoeng['text'].apply(preprocess_text)"
   ]
  },
  {
   "cell_type": "code",
   "execution_count": 19,
   "metadata": {},
   "outputs": [
    {
     "data": {
      "text/html": [
       "<div>\n",
       "<style scoped>\n",
       "    .dataframe tbody tr th:only-of-type {\n",
       "        vertical-align: middle;\n",
       "    }\n",
       "\n",
       "    .dataframe tbody tr th {\n",
       "        vertical-align: top;\n",
       "    }\n",
       "\n",
       "    .dataframe thead th {\n",
       "        text-align: right;\n",
       "    }\n",
       "</style>\n",
       "<table border=\"1\" class=\"dataframe\">\n",
       "  <thead>\n",
       "    <tr style=\"text-align: right;\">\n",
       "      <th></th>\n",
       "      <th>text</th>\n",
       "      <th>category</th>\n",
       "    </tr>\n",
       "  </thead>\n",
       "  <tbody>\n",
       "    <tr>\n",
       "      <th>0</th>\n",
       "      <td>i am still waiting on my card</td>\n",
       "      <td>card_arrival</td>\n",
       "    </tr>\n",
       "    <tr>\n",
       "      <th>1</th>\n",
       "      <td>what can i do if my card still hasnt arrived a...</td>\n",
       "      <td>card_arrival</td>\n",
       "    </tr>\n",
       "    <tr>\n",
       "      <th>2</th>\n",
       "      <td>i have been waiting over a week is the card st...</td>\n",
       "      <td>card_arrival</td>\n",
       "    </tr>\n",
       "    <tr>\n",
       "      <th>3</th>\n",
       "      <td>can i track my card while it is in the process...</td>\n",
       "      <td>card_arrival</td>\n",
       "    </tr>\n",
       "    <tr>\n",
       "      <th>4</th>\n",
       "      <td>how do i know if i will get my card or if it i...</td>\n",
       "      <td>card_arrival</td>\n",
       "    </tr>\n",
       "  </tbody>\n",
       "</table>\n",
       "</div>"
      ],
      "text/plain": [
       "                                                text      category\n",
       "0                      i am still waiting on my card  card_arrival\n",
       "1  what can i do if my card still hasnt arrived a...  card_arrival\n",
       "2  i have been waiting over a week is the card st...  card_arrival\n",
       "3  can i track my card while it is in the process...  card_arrival\n",
       "4  how do i know if i will get my card or if it i...  card_arrival"
      ]
     },
     "execution_count": 19,
     "metadata": {},
     "output_type": "execute_result"
    }
   ],
   "source": [
    "df_indoeng.head()"
   ]
  },
  {
   "cell_type": "code",
   "execution_count": 20,
   "metadata": {},
   "outputs": [
    {
     "data": {
      "text/plain": [
       "category\n",
       "card_payment_fee_charged              460\n",
       "wrong_amount_of_cash_received         439\n",
       "activate_my_card                      423\n",
       "transfer_not_received_by_recipient    421\n",
       "card_arrival                          395\n",
       "pending_cash_withdrawal               394\n",
       "cancel_transfer                       394\n",
       "card_linking                          371\n",
       "card_delivery_estimate                364\n",
       "getting_virtual_card                  349\n",
       "card_not_working                      343\n",
       "lost_or_stolen_card                   313\n",
       "Name: count, dtype: int64"
      ]
     },
     "execution_count": 20,
     "metadata": {},
     "output_type": "execute_result"
    }
   ],
   "source": [
    "df_indoeng['category'].value_counts()"
   ]
  },
  {
   "cell_type": "code",
   "execution_count": 21,
   "metadata": {},
   "outputs": [
    {
     "name": "stderr",
     "output_type": "stream",
     "text": [
      "Some weights of BertForSequenceClassification were not initialized from the model checkpoint at bert-base-multilingual-uncased and are newly initialized: ['classifier.bias', 'classifier.weight']\n",
      "You should probably TRAIN this model on a down-stream task to be able to use it for predictions and inference.\n"
     ]
    }
   ],
   "source": [
    "model_name = \"bert-base-multilingual-uncased\"\n",
    "tokenizer = BertTokenizer.from_pretrained(model_name)\n",
    "# Note: setting output_attentions and output_hidden_states to False can help with efficiency\n",
    "# because it reduces the amount of additional information that the model needs to compute and\n",
    "# store during forward passes. \n",
    "model = BertForSequenceClassification.from_pretrained(model_name, num_labels = 12, \n",
    "                                                      output_attentions = False, \n",
    "                                                      output_hidden_states = False)"
   ]
  },
  {
   "cell_type": "code",
   "execution_count": 22,
   "metadata": {},
   "outputs": [
    {
     "data": {
      "text/plain": [
       "BertForSequenceClassification(\n",
       "  (bert): BertModel(\n",
       "    (embeddings): BertEmbeddings(\n",
       "      (word_embeddings): Embedding(105879, 768, padding_idx=0)\n",
       "      (position_embeddings): Embedding(512, 768)\n",
       "      (token_type_embeddings): Embedding(2, 768)\n",
       "      (LayerNorm): LayerNorm((768,), eps=1e-12, elementwise_affine=True)\n",
       "      (dropout): Dropout(p=0.1, inplace=False)\n",
       "    )\n",
       "    (encoder): BertEncoder(\n",
       "      (layer): ModuleList(\n",
       "        (0-11): 12 x BertLayer(\n",
       "          (attention): BertAttention(\n",
       "            (self): BertSdpaSelfAttention(\n",
       "              (query): Linear(in_features=768, out_features=768, bias=True)\n",
       "              (key): Linear(in_features=768, out_features=768, bias=True)\n",
       "              (value): Linear(in_features=768, out_features=768, bias=True)\n",
       "              (dropout): Dropout(p=0.1, inplace=False)\n",
       "            )\n",
       "            (output): BertSelfOutput(\n",
       "              (dense): Linear(in_features=768, out_features=768, bias=True)\n",
       "              (LayerNorm): LayerNorm((768,), eps=1e-12, elementwise_affine=True)\n",
       "              (dropout): Dropout(p=0.1, inplace=False)\n",
       "            )\n",
       "          )\n",
       "          (intermediate): BertIntermediate(\n",
       "            (dense): Linear(in_features=768, out_features=3072, bias=True)\n",
       "            (intermediate_act_fn): GELUActivation()\n",
       "          )\n",
       "          (output): BertOutput(\n",
       "            (dense): Linear(in_features=3072, out_features=768, bias=True)\n",
       "            (LayerNorm): LayerNorm((768,), eps=1e-12, elementwise_affine=True)\n",
       "            (dropout): Dropout(p=0.1, inplace=False)\n",
       "          )\n",
       "        )\n",
       "      )\n",
       "    )\n",
       "    (pooler): BertPooler(\n",
       "      (dense): Linear(in_features=768, out_features=768, bias=True)\n",
       "      (activation): Tanh()\n",
       "    )\n",
       "  )\n",
       "  (dropout): Dropout(p=0.1, inplace=False)\n",
       "  (classifier): Linear(in_features=768, out_features=12, bias=True)\n",
       ")"
      ]
     },
     "execution_count": 22,
     "metadata": {},
     "output_type": "execute_result"
    }
   ],
   "source": [
    "model"
   ]
  },
  {
   "cell_type": "code",
   "execution_count": 23,
   "metadata": {},
   "outputs": [
    {
     "data": {
      "text/plain": [
       "512"
      ]
     },
     "execution_count": 23,
     "metadata": {},
     "output_type": "execute_result"
    }
   ],
   "source": [
    "tokenizer.model_max_length"
   ]
  },
  {
   "cell_type": "code",
   "execution_count": 24,
   "metadata": {},
   "outputs": [
    {
     "name": "stderr",
     "output_type": "stream",
     "text": [
      "100%|██████████| 4666/4666 [00:00<00:00, 5804.98it/s]\n"
     ]
    },
    {
     "data": {
      "text/html": [
       "<div>\n",
       "<style scoped>\n",
       "    .dataframe tbody tr th:only-of-type {\n",
       "        vertical-align: middle;\n",
       "    }\n",
       "\n",
       "    .dataframe tbody tr th {\n",
       "        vertical-align: top;\n",
       "    }\n",
       "\n",
       "    .dataframe thead th {\n",
       "        text-align: right;\n",
       "    }\n",
       "</style>\n",
       "<table border=\"1\" class=\"dataframe\">\n",
       "  <thead>\n",
       "    <tr style=\"text-align: right;\">\n",
       "      <th></th>\n",
       "      <th>text</th>\n",
       "      <th>category</th>\n",
       "      <th>input_ids</th>\n",
       "      <th>attention_mask</th>\n",
       "      <th>encoded</th>\n",
       "    </tr>\n",
       "  </thead>\n",
       "  <tbody>\n",
       "    <tr>\n",
       "      <th>0</th>\n",
       "      <td>i am still waiting on my card</td>\n",
       "      <td>card_arrival</td>\n",
       "      <td>[101, 151, 10345, 12440, 33542, 10125, 11153, ...</td>\n",
       "      <td>[1, 1, 1, 1, 1, 1, 1, 1, 1, 0, 0, 0, 0, 0, 0, ...</td>\n",
       "      <td>2</td>\n",
       "    </tr>\n",
       "    <tr>\n",
       "      <th>1</th>\n",
       "      <td>what can i do if my card still hasnt arrived a...</td>\n",
       "      <td>card_arrival</td>\n",
       "      <td>[101, 11523, 10743, 151, 10154, 11526, 11153, ...</td>\n",
       "      <td>[1, 1, 1, 1, 1, 1, 1, 1, 1, 1, 1, 1, 1, 1, 1, ...</td>\n",
       "      <td>2</td>\n",
       "    </tr>\n",
       "    <tr>\n",
       "      <th>2</th>\n",
       "      <td>i have been waiting over a week is the card st...</td>\n",
       "      <td>card_arrival</td>\n",
       "      <td>[101, 151, 10574, 10662, 33542, 10323, 143, 14...</td>\n",
       "      <td>[1, 1, 1, 1, 1, 1, 1, 1, 1, 1, 1, 1, 1, 1, 0, ...</td>\n",
       "      <td>2</td>\n",
       "    </tr>\n",
       "    <tr>\n",
       "      <th>3</th>\n",
       "      <td>can i track my card while it is in the process...</td>\n",
       "      <td>card_arrival</td>\n",
       "      <td>[101, 10743, 151, 13531, 11153, 18579, 11222, ...</td>\n",
       "      <td>[1, 1, 1, 1, 1, 1, 1, 1, 1, 1, 1, 1, 1, 1, 1, ...</td>\n",
       "      <td>2</td>\n",
       "    </tr>\n",
       "    <tr>\n",
       "      <th>4</th>\n",
       "      <td>how do i know if i will get my card or if it i...</td>\n",
       "      <td>card_arrival</td>\n",
       "      <td>[101, 12548, 10154, 151, 16332, 11526, 151, 11...</td>\n",
       "      <td>[1, 1, 1, 1, 1, 1, 1, 1, 1, 1, 1, 1, 1, 1, 1, ...</td>\n",
       "      <td>2</td>\n",
       "    </tr>\n",
       "  </tbody>\n",
       "</table>\n",
       "</div>"
      ],
      "text/plain": [
       "                                                text      category  \\\n",
       "0                      i am still waiting on my card  card_arrival   \n",
       "1  what can i do if my card still hasnt arrived a...  card_arrival   \n",
       "2  i have been waiting over a week is the card st...  card_arrival   \n",
       "3  can i track my card while it is in the process...  card_arrival   \n",
       "4  how do i know if i will get my card or if it i...  card_arrival   \n",
       "\n",
       "                                           input_ids  \\\n",
       "0  [101, 151, 10345, 12440, 33542, 10125, 11153, ...   \n",
       "1  [101, 11523, 10743, 151, 10154, 11526, 11153, ...   \n",
       "2  [101, 151, 10574, 10662, 33542, 10323, 143, 14...   \n",
       "3  [101, 10743, 151, 13531, 11153, 18579, 11222, ...   \n",
       "4  [101, 12548, 10154, 151, 16332, 11526, 151, 11...   \n",
       "\n",
       "                                      attention_mask  encoded  \n",
       "0  [1, 1, 1, 1, 1, 1, 1, 1, 1, 0, 0, 0, 0, 0, 0, ...        2  \n",
       "1  [1, 1, 1, 1, 1, 1, 1, 1, 1, 1, 1, 1, 1, 1, 1, ...        2  \n",
       "2  [1, 1, 1, 1, 1, 1, 1, 1, 1, 1, 1, 1, 1, 1, 0, ...        2  \n",
       "3  [1, 1, 1, 1, 1, 1, 1, 1, 1, 1, 1, 1, 1, 1, 1, ...        2  \n",
       "4  [1, 1, 1, 1, 1, 1, 1, 1, 1, 1, 1, 1, 1, 1, 1, ...        2  "
      ]
     },
     "execution_count": 24,
     "metadata": {},
     "output_type": "execute_result"
    }
   ],
   "source": [
    "\n",
    "# Define a function to tokenize and encode the text and return both input_ids and attention_mask\n",
    "def tokenize_and_encode(text):\n",
    "    encoding = tokenizer.encode_plus(\n",
    "        text,\n",
    "        add_special_tokens=True,\n",
    "        truncation=True,\n",
    "        padding='max_length',\n",
    "        max_length=128,\n",
    "        return_attention_mask=True,  # Return attention_mask\n",
    "    )\n",
    "    input_ids = encoding['input_ids']\n",
    "    attention_mask = encoding['attention_mask']\n",
    "    return input_ids, attention_mask\n",
    "\n",
    "tqdm.pandas()\n",
    "\n",
    "# Apply the function to the \"review\" column\n",
    "df_indoeng[['input_ids', 'attention_mask']] = df_indoeng['text'].progress_apply(lambda x: tokenize_and_encode(x)).apply(pd.Series)\n",
    "\n",
    "le = LabelEncoder()\n",
    "\n",
    "# Convert sentiments to boolean values\n",
    "df_indoeng[\"encoded\"] = le.fit_transform(df_indoeng[\"category\"])\n",
    "\n",
    "# Display the mapping between original labels and encoded values\n",
    "label_mapping = dict(zip(le.classes_, le.transform(le.classes_)))\n",
    "\n",
    "df_indoeng.head()"
   ]
  },
  {
   "cell_type": "code",
   "execution_count": 25,
   "metadata": {},
   "outputs": [
    {
     "name": "stdout",
     "output_type": "stream",
     "text": [
      "                              category  encoded\n",
      "0                     activate_my_card        0\n",
      "1                      cancel_transfer        1\n",
      "2                         card_arrival        2\n",
      "3               card_delivery_estimate        3\n",
      "4                         card_linking        4\n",
      "5                     card_not_working        5\n",
      "6             card_payment_fee_charged        6\n",
      "7                 getting_virtual_card        7\n",
      "8                  lost_or_stolen_card        8\n",
      "9              pending_cash_withdrawal        9\n",
      "10  transfer_not_received_by_recipient       10\n",
      "11       wrong_amount_of_cash_received       11\n"
     ]
    }
   ],
   "source": [
    "category_mapping = df_indoeng.groupby('category')['encoded'].first().reset_index()\n",
    "print(category_mapping)\n"
   ]
  },
  {
   "cell_type": "code",
   "execution_count": 26,
   "metadata": {},
   "outputs": [],
   "source": [
    "\n",
    "train_df, temp_df = train_test_split(df_indoeng, test_size=0.2, random_state=42)\n",
    "val_df, test_df = train_test_split(temp_df, test_size=0.5, random_state=42)\n"
   ]
  },
  {
   "cell_type": "code",
   "execution_count": 27,
   "metadata": {},
   "outputs": [
    {
     "data": {
      "text/html": [
       "<div>\n",
       "<style scoped>\n",
       "    .dataframe tbody tr th:only-of-type {\n",
       "        vertical-align: middle;\n",
       "    }\n",
       "\n",
       "    .dataframe tbody tr th {\n",
       "        vertical-align: top;\n",
       "    }\n",
       "\n",
       "    .dataframe thead th {\n",
       "        text-align: right;\n",
       "    }\n",
       "</style>\n",
       "<table border=\"1\" class=\"dataframe\">\n",
       "  <thead>\n",
       "    <tr style=\"text-align: right;\">\n",
       "      <th></th>\n",
       "      <th>text</th>\n",
       "      <th>category</th>\n",
       "      <th>input_ids</th>\n",
       "      <th>attention_mask</th>\n",
       "      <th>encoded</th>\n",
       "    </tr>\n",
       "  </thead>\n",
       "  <tbody>\n",
       "    <tr>\n",
       "      <th>332</th>\n",
       "      <td>i have a withdrawal waiting to go through</td>\n",
       "      <td>pending_cash_withdrawal</td>\n",
       "      <td>[101, 151, 10574, 143, 83126, 33542, 10114, 11...</td>\n",
       "      <td>[1, 1, 1, 1, 1, 1, 1, 1, 1, 1, 0, 0, 0, 0, 0, ...</td>\n",
       "      <td>9</td>\n",
       "    </tr>\n",
       "    <tr>\n",
       "      <th>1113</th>\n",
       "      <td>is there a fee for paying by card</td>\n",
       "      <td>card_payment_fee_charged</td>\n",
       "      <td>[101, 10127, 10768, 143, 38820, 10139, 74838, ...</td>\n",
       "      <td>[1, 1, 1, 1, 1, 1, 1, 1, 1, 1, 0, 0, 0, 0, 0, ...</td>\n",
       "      <td>6</td>\n",
       "    </tr>\n",
       "    <tr>\n",
       "      <th>751</th>\n",
       "      <td>is there a way to undo a transaction</td>\n",
       "      <td>cancel_transfer</td>\n",
       "      <td>[101, 10127, 10768, 143, 12140, 10114, 10138, ...</td>\n",
       "      <td>[1, 1, 1, 1, 1, 1, 1, 1, 1, 1, 1, 0, 0, 0, 0, ...</td>\n",
       "      <td>1</td>\n",
       "    </tr>\n",
       "    <tr>\n",
       "      <th>720</th>\n",
       "      <td>what are the steps i need to do if i have a st...</td>\n",
       "      <td>lost_or_stolen_card</td>\n",
       "      <td>[101, 11523, 10320, 10103, 37013, 151, 15415, ...</td>\n",
       "      <td>[1, 1, 1, 1, 1, 1, 1, 1, 1, 1, 1, 1, 1, 1, 1, ...</td>\n",
       "      <td>8</td>\n",
       "    </tr>\n",
       "    <tr>\n",
       "      <th>1962</th>\n",
       "      <td>jika kartu saya hilang atau dicuri dapatkah sa...</td>\n",
       "      <td>card_linking</td>\n",
       "      <td>[101, 27697, 33510, 44334, 94259, 11980, 10120...</td>\n",
       "      <td>[1, 1, 1, 1, 1, 1, 1, 1, 1, 1, 1, 1, 1, 1, 1, ...</td>\n",
       "      <td>4</td>\n",
       "    </tr>\n",
       "  </tbody>\n",
       "</table>\n",
       "</div>"
      ],
      "text/plain": [
       "                                                   text  \\\n",
       "332           i have a withdrawal waiting to go through   \n",
       "1113                  is there a fee for paying by card   \n",
       "751                is there a way to undo a transaction   \n",
       "720   what are the steps i need to do if i have a st...   \n",
       "1962  jika kartu saya hilang atau dicuri dapatkah sa...   \n",
       "\n",
       "                      category  \\\n",
       "332    pending_cash_withdrawal   \n",
       "1113  card_payment_fee_charged   \n",
       "751            cancel_transfer   \n",
       "720        lost_or_stolen_card   \n",
       "1962              card_linking   \n",
       "\n",
       "                                              input_ids  \\\n",
       "332   [101, 151, 10574, 143, 83126, 33542, 10114, 11...   \n",
       "1113  [101, 10127, 10768, 143, 38820, 10139, 74838, ...   \n",
       "751   [101, 10127, 10768, 143, 12140, 10114, 10138, ...   \n",
       "720   [101, 11523, 10320, 10103, 37013, 151, 15415, ...   \n",
       "1962  [101, 27697, 33510, 44334, 94259, 11980, 10120...   \n",
       "\n",
       "                                         attention_mask  encoded  \n",
       "332   [1, 1, 1, 1, 1, 1, 1, 1, 1, 1, 0, 0, 0, 0, 0, ...        9  \n",
       "1113  [1, 1, 1, 1, 1, 1, 1, 1, 1, 1, 0, 0, 0, 0, 0, ...        6  \n",
       "751   [1, 1, 1, 1, 1, 1, 1, 1, 1, 1, 1, 0, 0, 0, 0, ...        1  \n",
       "720   [1, 1, 1, 1, 1, 1, 1, 1, 1, 1, 1, 1, 1, 1, 1, ...        8  \n",
       "1962  [1, 1, 1, 1, 1, 1, 1, 1, 1, 1, 1, 1, 1, 1, 1, ...        4  "
      ]
     },
     "execution_count": 27,
     "metadata": {},
     "output_type": "execute_result"
    }
   ],
   "source": [
    "train_df.head()"
   ]
  },
  {
   "cell_type": "code",
   "execution_count": 28,
   "metadata": {},
   "outputs": [],
   "source": [
    "def get_tensor_data(data):\n",
    "    out_input_ids = torch.tensor(data[\"input_ids\"].tolist())\n",
    "    out_attention_masks = torch.tensor(data[\"attention_mask\"].tolist())\n",
    "    out_labels = torch.tensor(data[\"encoded\"].tolist())\n",
    "    return out_input_ids, out_attention_masks, out_labels\n",
    "\n",
    "train_input_ids, train_attention_masks, train_labels = get_tensor_data(train_df)\n",
    "val_input_ids, val_attention_masks, val_labels = get_tensor_data(val_df)\n",
    "test_input_ids, test_attention_masks, test_labels = get_tensor_data(test_df)"
   ]
  },
  {
   "cell_type": "code",
   "execution_count": 29,
   "metadata": {},
   "outputs": [],
   "source": [
    "\n",
    "train_dataset = TensorDataset(train_input_ids, train_attention_masks, train_labels)\n",
    "val_dataset = TensorDataset(val_input_ids, val_attention_masks, val_labels)\n",
    "test_dataset = TensorDataset(test_input_ids, test_attention_masks, test_labels)"
   ]
  },
  {
   "cell_type": "code",
   "execution_count": 30,
   "metadata": {},
   "outputs": [],
   "source": [
    "\n",
    "batch_size = 32\n",
    "train_loader = DataLoader(train_dataset, batch_size=batch_size, shuffle=True)\n",
    "val_loader = DataLoader(val_dataset, batch_size=batch_size)\n",
    "test_loader = DataLoader(test_dataset, batch_size=batch_size)"
   ]
  },
  {
   "cell_type": "code",
   "execution_count": 31,
   "metadata": {},
   "outputs": [],
   "source": [
    "# https://pytorch.org/docs/stable/generated/torch.optim.AdamW.html\n",
    "# weight_decay (float, optional) – weight decay coefficient (default: 1e-2)\n",
    "optimizer = torch.optim.AdamW(model.parameters(), lr=1e-5) \n",
    "criterion = nn.CrossEntropyLoss() # binary classification\n",
    "scheduler = ReduceLROnPlateau(optimizer, mode='max', patience=1, factor=0.5)  # Reduce LR when val_acc stops improving\n",
    "\n"
   ]
  },
  {
   "cell_type": "code",
   "execution_count": 32,
   "metadata": {},
   "outputs": [
    {
     "data": {
      "text/plain": [
       "BertForSequenceClassification(\n",
       "  (bert): BertModel(\n",
       "    (embeddings): BertEmbeddings(\n",
       "      (word_embeddings): Embedding(105879, 768, padding_idx=0)\n",
       "      (position_embeddings): Embedding(512, 768)\n",
       "      (token_type_embeddings): Embedding(2, 768)\n",
       "      (LayerNorm): LayerNorm((768,), eps=1e-12, elementwise_affine=True)\n",
       "      (dropout): Dropout(p=0.1, inplace=False)\n",
       "    )\n",
       "    (encoder): BertEncoder(\n",
       "      (layer): ModuleList(\n",
       "        (0-11): 12 x BertLayer(\n",
       "          (attention): BertAttention(\n",
       "            (self): BertSdpaSelfAttention(\n",
       "              (query): Linear(in_features=768, out_features=768, bias=True)\n",
       "              (key): Linear(in_features=768, out_features=768, bias=True)\n",
       "              (value): Linear(in_features=768, out_features=768, bias=True)\n",
       "              (dropout): Dropout(p=0.1, inplace=False)\n",
       "            )\n",
       "            (output): BertSelfOutput(\n",
       "              (dense): Linear(in_features=768, out_features=768, bias=True)\n",
       "              (LayerNorm): LayerNorm((768,), eps=1e-12, elementwise_affine=True)\n",
       "              (dropout): Dropout(p=0.1, inplace=False)\n",
       "            )\n",
       "          )\n",
       "          (intermediate): BertIntermediate(\n",
       "            (dense): Linear(in_features=768, out_features=3072, bias=True)\n",
       "            (intermediate_act_fn): GELUActivation()\n",
       "          )\n",
       "          (output): BertOutput(\n",
       "            (dense): Linear(in_features=3072, out_features=768, bias=True)\n",
       "            (LayerNorm): LayerNorm((768,), eps=1e-12, elementwise_affine=True)\n",
       "            (dropout): Dropout(p=0.1, inplace=False)\n",
       "          )\n",
       "        )\n",
       "      )\n",
       "    )\n",
       "    (pooler): BertPooler(\n",
       "      (dense): Linear(in_features=768, out_features=768, bias=True)\n",
       "      (activation): Tanh()\n",
       "    )\n",
       "  )\n",
       "  (dropout): Dropout(p=0.1, inplace=False)\n",
       "  (classifier): Linear(in_features=768, out_features=12, bias=True)\n",
       ")"
      ]
     },
     "execution_count": 32,
     "metadata": {},
     "output_type": "execute_result"
    }
   ],
   "source": [
    "model.to(device)\n"
   ]
  },
  {
   "cell_type": "code",
   "execution_count": 33,
   "metadata": {},
   "outputs": [],
   "source": [
    "class EarlyStopping:\n",
    "    def __init__(self, patience=2, mode=\"max\", min_delta=0.0):\n",
    "        self.patience = patience\n",
    "        self.mode = mode\n",
    "        self.min_delta = min_delta\n",
    "        self.counter = 0\n",
    "        self.best_metric = -float(\"inf\") if mode == \"max\" else float(\"inf\")\n",
    "        \n",
    "    def __call__(self, current_metric):\n",
    "        if self.mode == \"max\":\n",
    "            if current_metric > self.best_metric + self.min_delta:\n",
    "                self.best_metric = current_metric\n",
    "                self.counter = 0\n",
    "            else:\n",
    "                self.counter += 1\n",
    "        elif self.mode == \"min\":\n",
    "            if current_metric < self.best_metric - self.min_delta:\n",
    "                self.best_metric = current_metric\n",
    "                self.counter = 0\n",
    "            else:\n",
    "                self.counter += 1\n",
    "        \n",
    "        if self.counter >= self.patience:\n",
    "            self.early_stop = True\n",
    "        else:\n",
    "            self.early_stop = False"
   ]
  },
  {
   "cell_type": "code",
   "execution_count": 35,
   "metadata": {},
   "outputs": [
    {
     "name": "stderr",
     "output_type": "stream",
     "text": [
      " 12%|█▎        | 1/8 [02:10<15:14, 130.60s/it]"
     ]
    },
    {
     "name": "stdout",
     "output_type": "stream",
     "text": [
      "epoch 1: Avg Loss 0.4909, Train Acc 0.9250, Val Acc 0.9036\n"
     ]
    },
    {
     "name": "stderr",
     "output_type": "stream",
     "text": [
      " 25%|██▌       | 2/8 [04:12<12:32, 125.40s/it]"
     ]
    },
    {
     "name": "stdout",
     "output_type": "stream",
     "text": [
      "epoch 2: Avg Loss 0.2410, Train Acc 0.9625, Val Acc 0.9550\n"
     ]
    },
    {
     "name": "stderr",
     "output_type": "stream",
     "text": [
      " 38%|███▊      | 3/8 [06:06<10:00, 120.18s/it]"
     ]
    },
    {
     "name": "stdout",
     "output_type": "stream",
     "text": [
      "epoch 3: Avg Loss 0.1700, Train Acc 0.9689, Val Acc 0.9550\n"
     ]
    },
    {
     "name": "stderr",
     "output_type": "stream",
     "text": [
      " 50%|█████     | 4/8 [07:58<07:48, 117.15s/it]"
     ]
    },
    {
     "name": "stdout",
     "output_type": "stream",
     "text": [
      "epoch 4: Avg Loss 0.1018, Train Acc 0.9850, Val Acc 0.9615\n"
     ]
    },
    {
     "name": "stderr",
     "output_type": "stream",
     "text": [
      " 62%|██████▎   | 5/8 [09:51<05:46, 115.48s/it]"
     ]
    },
    {
     "name": "stdout",
     "output_type": "stream",
     "text": [
      "epoch 5: Avg Loss 0.0690, Train Acc 0.9906, Val Acc 0.9550\n"
     ]
    },
    {
     "name": "stderr",
     "output_type": "stream",
     "text": [
      " 75%|███████▌  | 6/8 [11:44<03:49, 114.61s/it]"
     ]
    },
    {
     "name": "stdout",
     "output_type": "stream",
     "text": [
      "epoch 6: Avg Loss 0.0604, Train Acc 0.9901, Val Acc 0.9529\n"
     ]
    },
    {
     "name": "stderr",
     "output_type": "stream",
     "text": [
      " 75%|███████▌  | 6/8 [13:40<04:33, 136.83s/it]"
     ]
    },
    {
     "name": "stdout",
     "output_type": "stream",
     "text": [
      "epoch 7: Avg Loss 0.0512, Train Acc 0.9912, Val Acc 0.9572\n",
      "Early stopping triggered at epoch 7. Best val acc: 0.9615\n"
     ]
    },
    {
     "name": "stderr",
     "output_type": "stream",
     "text": [
      "\n"
     ]
    }
   ],
   "source": [
    "epochs = 8\n",
    "early_stopping = EarlyStopping(patience=3)  # Stop if no improvement for 2 epochs\n",
    "confidence_threshold = 0.50  # Define threshold\n",
    "\n",
    "torch.manual_seed(12345)\n",
    "for epoch in tqdm(range(epochs)):\n",
    "    # train\n",
    "    model.train()\n",
    "    total_loss = 0.0\n",
    "    correct = 0\n",
    "    for batch in train_loader:\n",
    "        num_batches = len(train_loader)\n",
    "        inputs, attention_mask, labels = batch\n",
    "        inputs, attention_mask, labels = inputs.to(device), attention_mask.to(device), labels.to(device)\n",
    "        optimizer.zero_grad(set_to_none=True)\n",
    "        outputs_dict = model(inputs, attention_mask=attention_mask, labels=labels)\n",
    "        loss = criterion(outputs_dict.logits, labels)\n",
    "        predicted = outputs_dict.logits.argmax(dim=1)\n",
    "        loss.backward()\n",
    "        optimizer.step()\n",
    "        total_loss += loss.item()\n",
    "        # Increment the number of correct predictions\n",
    "        correct += (predicted == labels).type(torch.float).sum().item()\n",
    "    train_acc = correct / len(train_loader.dataset)\n",
    "    avg_train_loss = total_loss / num_batches\n",
    "    \n",
    "    # validate\n",
    "    val_correct = 0\n",
    "    model.eval()\n",
    "    with torch.no_grad():\n",
    "        for batch in val_loader:\n",
    "            inputs, attention_mask, labels = batch\n",
    "            inputs, attention_mask, labels = inputs.to(device), attention_mask.to(device), labels.to(device)\n",
    "            outputs_dict = model(inputs, attention_mask=attention_mask, labels=labels)\n",
    "\n",
    "            logits = outputs_dict.logits  # Get raw logits\n",
    "\n",
    "            probabilities = torch.softmax(logits, dim=1)  # Convert logits to probabilities\n",
    "            max_probs, val_predicted = torch.max(probabilities, dim=1)  # Get highest prob & predicted class\n",
    "\n",
    "            # Apply confidence threshold: Only count if max_prob >= confidence_threshold\n",
    "            valid_preds = (val_predicted == labels) & (max_probs >= confidence_threshold)\n",
    "\n",
    "            val_correct += valid_preds.sum().item()\n",
    "            # val_predicted = outputs_dict.logits.argmax(dim=1)\n",
    "            # val_correct += (val_predicted == labels).type(torch.float).sum().item()\n",
    "    val_acc = val_correct / len(val_loader.dataset)\n",
    "    print(f'epoch {epoch + 1}: Avg Loss {avg_train_loss:.4f}, Train Acc {train_acc:.4f}, Val Acc {val_acc:.4f}')    \n",
    "    early_stopping(val_acc)\n",
    "\n",
    "    if early_stopping.early_stop:\n",
    "        print(f\"Early stopping triggered at epoch {epoch + 1}. Best val acc: {early_stopping.best_metric:.4f}\")\n",
    "        break\n",
    "        "
   ]
  },
  {
   "cell_type": "code",
   "execution_count": 36,
   "metadata": {},
   "outputs": [
    {
     "name": "stdout",
     "output_type": "stream",
     "text": [
      "Number of model parameters: 167365644\n"
     ]
    }
   ],
   "source": [
    "# number of model parameters\n",
    "num_params = sum(p.numel() for p in model.parameters())\n",
    "print(f\"Number of model parameters: {num_params}\")"
   ]
  },
  {
   "cell_type": "code",
   "execution_count": null,
   "metadata": {},
   "outputs": [
    {
     "name": "stdout",
     "output_type": "stream",
     "text": [
      "\n",
      "Test Results (Confidence ≥0.75):\n",
      "Avg Loss: 0.2019\n",
      "Confident Accuracy: 0.9714\n",
      "Coverage: 97.43% (455/467)\n"
     ]
    },
    {
     "data": {
      "image/png": "[encoded data removed]",
      "text/plain": [
       "<Figure size 1200x1000 with 2 Axes>"
      ]
     },
     "metadata": {},
     "output_type": "display_data"
    },
    {
     "name": "stdout",
     "output_type": "stream",
     "text": [
      "\n",
      "Classification Report (All Predictions):\n",
      "                                    precision    recall  f1-score   support\n",
      "\n",
      "                  activate_my_card     0.9286    0.9750    0.9512        40\n",
      "                   cancel_transfer     0.9706    0.9429    0.9565        35\n",
      "                      card_arrival     0.9762    0.8913    0.9318        46\n",
      "            card_delivery_estimate     0.8333    0.9459    0.8861        37\n",
      "                      card_linking     0.9750    0.9750    0.9750        40\n",
      "                  card_not_working     0.9333    0.8000    0.8615        35\n",
      "          card_payment_fee_charged     0.9545    1.0000    0.9767        42\n",
      "              getting_virtual_card     1.0000    1.0000    1.0000        35\n",
      "               lost_or_stolen_card     0.9143    0.9697    0.9412        33\n",
      "           pending_cash_withdrawal     0.9474    1.0000    0.9730        36\n",
      "transfer_not_received_by_recipient     1.0000    1.0000    1.0000        43\n",
      "     wrong_amount_of_cash_received     1.0000    0.9333    0.9655        45\n",
      "\n",
      "                          accuracy                         0.9529       467\n",
      "                         macro avg     0.9528    0.9528    0.9515       467\n",
      "                      weighted avg     0.9548    0.9529    0.9526       467\n",
      "\n"
     ]
    }
   ],
   "source": [
    "class_names = [\n",
    "    \"activate_my_card\", \"cancel_transfer\", \"card_arrival\",\n",
    "    \"card_delivery_estimate\", \"card_linking\", \"card_not_working\",\n",
    "    \"card_payment_fee_charged\", \"getting_virtual_card\",\n",
    "    \"lost_or_stolen_card\", \"pending_cash_withdrawal\",\n",
    "    \"transfer_not_received_by_recipient\", \"wrong_amount_of_cash_received\"\n",
    "]\n",
    "\n",
    "def test(model, test_loader, device, confidence_threshold):\n",
    "    model.eval()\n",
    "    total_samples = 0\n",
    "    test_correct = 0\n",
    "    total_loss = 0.0\n",
    "    \n",
    "    all_labels = []\n",
    "    all_preds = []\n",
    "    confident_samples = 0\n",
    "\n",
    "    with torch.no_grad():\n",
    "        for batch in test_loader:\n",
    "            inputs, attention_mask, labels = batch\n",
    "            inputs = inputs.to(device)\n",
    "            attention_mask = attention_mask.to(device)\n",
    "            labels = labels.to(device)\n",
    "\n",
    "            outputs_dict = model(inputs, attention_mask=attention_mask, labels=labels)\n",
    "            loss = criterion(outputs_dict.logits, labels)\n",
    "            total_loss += loss.item()\n",
    "\n",
    "            probabilities = torch.softmax(outputs_dict.logits, dim=1)\n",
    "            max_probs, preds = torch.max(probabilities, dim=1)\n",
    "            \n",
    "            # Apply confidence threshold\n",
    "            mask = max_probs >= confidence_threshold\n",
    "            valid_labels = labels[mask]\n",
    "            valid_preds = preds[mask]\n",
    "            \n",
    "            # Update counters\n",
    "            test_correct += (valid_preds == valid_labels).sum().item()\n",
    "            confident_samples += mask.sum().item()\n",
    "            total_samples += labels.size(0)\n",
    "            \n",
    "            # Store for metrics\n",
    "            all_labels.extend(labels.cpu().numpy())\n",
    "            all_preds.extend(preds.cpu().numpy())\n",
    "\n",
    "    # Calculate metrics\n",
    "    avg_test_loss = total_loss / len(test_loader)\n",
    "    confident_acc = test_correct / confident_samples if confident_samples > 0 else 0\n",
    "    coverage = confident_samples / total_samples\n",
    "\n",
    "    print(f\"\\nTest Results (Confidence ≥{confidence_threshold}):\")\n",
    "    print(f\"Avg Loss: {avg_test_loss:.4f}\")\n",
    "    print(f\"Confident Accuracy: {confident_acc:.4f}\")\n",
    "    print(f\"Coverage: {coverage:.2%} ({confident_samples}/{total_samples})\")\n",
    "\n",
    "    # Confusion Matrix (all predictions)\n",
    "    plt.figure(figsize=(12, 10))\n",
    "    cm = confusion_matrix(all_labels, all_preds)\n",
    "    sns.heatmap(cm, annot=True, fmt='d', cmap='Blues',\n",
    "                xticklabels=class_names, \n",
    "                yticklabels=class_names)\n",
    "    plt.xticks(rotation=45, ha='right')\n",
    "    plt.yticks(rotation=0)\n",
    "    plt.xlabel('Predicted')\n",
    "    plt.ylabel('Actual')\n",
    "    plt.title('Confusion Matrix (All Predictions)')\n",
    "    plt.tight_layout()\n",
    "    plt.show()\n",
    "\n",
    "    # Classification Report (all predictions)\n",
    "    print(\"\\nClassification Report (All Predictions):\")\n",
    "    print(classification_report(all_labels, all_preds, target_names=class_names, digits=4))\n",
    "\n",
    "    return avg_test_loss, confident_acc, coverage\n",
    "\n",
    "# Run test\n",
    "test_loss, test_acc, coverage = test(model, test_loader, device, confidence_threshold=0.75)"
   ]
  },
  {
   "cell_type": "code",
   "execution_count": null,
   "metadata": {},
   "outputs": [],
   "source": [
    "torch.save(model.state_dict(), 'banking77.pth')"
   ]
  }
 ],
 "metadata": {
  "kernelspec": {
   "display_name": "conference",
   "language": "python",
   "name": "python3"
  },
  "language_info": {
   "codemirror_mode": {
    "name": "ipython",
    "version": 3
   },
   "file_extension": ".py",
   "mimetype": "text/x-python",
   "name": "python",
   "nbconvert_exporter": "python",
   "pygments_lexer": "ipython3",
   "version": "3.12.8"
  }
 },
 "nbformat": 4,
 "nbformat_minor": 2
}
